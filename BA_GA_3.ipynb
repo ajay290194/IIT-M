{
  "nbformat": 4,
  "nbformat_minor": 0,
  "metadata": {
    "colab": {
      "name": "BA_GA_3.ipynb",
      "provenance": [],
      "collapsed_sections": [],
      "authorship_tag": "ABX9TyMWrRH3dyWecRZZ4TWRpmIv",
      "include_colab_link": true
    },
    "kernelspec": {
      "name": "python3",
      "display_name": "Python 3"
    },
    "language_info": {
      "name": "python"
    }
  },
  "cells": [
    {
      "cell_type": "markdown",
      "metadata": {
        "id": "view-in-github",
        "colab_type": "text"
      },
      "source": [
        "<a href=\"https://colab.research.google.com/github/ajay290194/IIT-M/blob/main/BA_GA_3.ipynb\" target=\"_parent\"><img src=\"https://colab.research.google.com/assets/colab-badge.svg\" alt=\"Open In Colab\"/></a>"
      ]
    },
    {
      "cell_type": "code",
      "execution_count": 1,
      "metadata": {
        "id": "yaL82mMJhtvn"
      },
      "outputs": [],
      "source": [
        "import pandas as pd\n",
        "import numpy as np\n",
        "import matplotlib.pyplot as plt"
      ]
    },
    {
      "cell_type": "code",
      "source": [
        "train = pd.read_csv('/content/data_LR_train.csv')\n",
        "test = pd.read_csv('/content/data_LR_test.csv')"
      ],
      "metadata": {
        "id": "0sgG18m_iGb_"
      },
      "execution_count": 2,
      "outputs": []
    },
    {
      "cell_type": "code",
      "source": [
        "train.head()"
      ],
      "metadata": {
        "colab": {
          "base_uri": "https://localhost:8080/",
          "height": 288
        },
        "id": "acx_qM2ciWNY",
        "outputId": "fb2ef184-6071-4112-cde3-d93331c96e83"
      },
      "execution_count": 3,
      "outputs": [
        {
          "output_type": "execute_result",
          "data": {
            "text/plain": [
              "   Tier  FICO  Term    Amount  Previous_Rate  Competition_rate  Rate  \\\n",
              "0     1   783    36  16378.00              0              3.69  3.69   \n",
              "1     2   711    48  28322.00              0              5.49  4.89   \n",
              "2     1   773    36   9500.00              0              3.99  3.99   \n",
              "3     1   743    72  24078.00              5              6.09  4.69   \n",
              "4     1   762    72  14999.99              0              5.75  5.69   \n",
              "\n",
              "   Cost_Funds  Partner Bin  Car_Type_N  Car_Type_R  Car_Type_U  Accept  \n",
              "0      1.1200            1           1           0           0     0.0  \n",
              "1      1.8200            1           1           0           0     0.0  \n",
              "2      1.1100            3           1           0           0     0.0  \n",
              "3      1.1100            1           0           1           0     0.0  \n",
              "4      1.1463            3           0           0           1     0.0  "
            ],
            "text/html": [
              "\n",
              "  <div id=\"df-37cabeb3-ed13-4d2e-908c-e89024abde8d\">\n",
              "    <div class=\"colab-df-container\">\n",
              "      <div>\n",
              "<style scoped>\n",
              "    .dataframe tbody tr th:only-of-type {\n",
              "        vertical-align: middle;\n",
              "    }\n",
              "\n",
              "    .dataframe tbody tr th {\n",
              "        vertical-align: top;\n",
              "    }\n",
              "\n",
              "    .dataframe thead th {\n",
              "        text-align: right;\n",
              "    }\n",
              "</style>\n",
              "<table border=\"1\" class=\"dataframe\">\n",
              "  <thead>\n",
              "    <tr style=\"text-align: right;\">\n",
              "      <th></th>\n",
              "      <th>Tier</th>\n",
              "      <th>FICO</th>\n",
              "      <th>Term</th>\n",
              "      <th>Amount</th>\n",
              "      <th>Previous_Rate</th>\n",
              "      <th>Competition_rate</th>\n",
              "      <th>Rate</th>\n",
              "      <th>Cost_Funds</th>\n",
              "      <th>Partner Bin</th>\n",
              "      <th>Car_Type_N</th>\n",
              "      <th>Car_Type_R</th>\n",
              "      <th>Car_Type_U</th>\n",
              "      <th>Accept</th>\n",
              "    </tr>\n",
              "  </thead>\n",
              "  <tbody>\n",
              "    <tr>\n",
              "      <th>0</th>\n",
              "      <td>1</td>\n",
              "      <td>783</td>\n",
              "      <td>36</td>\n",
              "      <td>16378.00</td>\n",
              "      <td>0</td>\n",
              "      <td>3.69</td>\n",
              "      <td>3.69</td>\n",
              "      <td>1.1200</td>\n",
              "      <td>1</td>\n",
              "      <td>1</td>\n",
              "      <td>0</td>\n",
              "      <td>0</td>\n",
              "      <td>0.0</td>\n",
              "    </tr>\n",
              "    <tr>\n",
              "      <th>1</th>\n",
              "      <td>2</td>\n",
              "      <td>711</td>\n",
              "      <td>48</td>\n",
              "      <td>28322.00</td>\n",
              "      <td>0</td>\n",
              "      <td>5.49</td>\n",
              "      <td>4.89</td>\n",
              "      <td>1.8200</td>\n",
              "      <td>1</td>\n",
              "      <td>1</td>\n",
              "      <td>0</td>\n",
              "      <td>0</td>\n",
              "      <td>0.0</td>\n",
              "    </tr>\n",
              "    <tr>\n",
              "      <th>2</th>\n",
              "      <td>1</td>\n",
              "      <td>773</td>\n",
              "      <td>36</td>\n",
              "      <td>9500.00</td>\n",
              "      <td>0</td>\n",
              "      <td>3.99</td>\n",
              "      <td>3.99</td>\n",
              "      <td>1.1100</td>\n",
              "      <td>3</td>\n",
              "      <td>1</td>\n",
              "      <td>0</td>\n",
              "      <td>0</td>\n",
              "      <td>0.0</td>\n",
              "    </tr>\n",
              "    <tr>\n",
              "      <th>3</th>\n",
              "      <td>1</td>\n",
              "      <td>743</td>\n",
              "      <td>72</td>\n",
              "      <td>24078.00</td>\n",
              "      <td>5</td>\n",
              "      <td>6.09</td>\n",
              "      <td>4.69</td>\n",
              "      <td>1.1100</td>\n",
              "      <td>1</td>\n",
              "      <td>0</td>\n",
              "      <td>1</td>\n",
              "      <td>0</td>\n",
              "      <td>0.0</td>\n",
              "    </tr>\n",
              "    <tr>\n",
              "      <th>4</th>\n",
              "      <td>1</td>\n",
              "      <td>762</td>\n",
              "      <td>72</td>\n",
              "      <td>14999.99</td>\n",
              "      <td>0</td>\n",
              "      <td>5.75</td>\n",
              "      <td>5.69</td>\n",
              "      <td>1.1463</td>\n",
              "      <td>3</td>\n",
              "      <td>0</td>\n",
              "      <td>0</td>\n",
              "      <td>1</td>\n",
              "      <td>0.0</td>\n",
              "    </tr>\n",
              "  </tbody>\n",
              "</table>\n",
              "</div>\n",
              "      <button class=\"colab-df-convert\" onclick=\"convertToInteractive('df-37cabeb3-ed13-4d2e-908c-e89024abde8d')\"\n",
              "              title=\"Convert this dataframe to an interactive table.\"\n",
              "              style=\"display:none;\">\n",
              "        \n",
              "  <svg xmlns=\"http://www.w3.org/2000/svg\" height=\"24px\"viewBox=\"0 0 24 24\"\n",
              "       width=\"24px\">\n",
              "    <path d=\"M0 0h24v24H0V0z\" fill=\"none\"/>\n",
              "    <path d=\"M18.56 5.44l.94 2.06.94-2.06 2.06-.94-2.06-.94-.94-2.06-.94 2.06-2.06.94zm-11 1L8.5 8.5l.94-2.06 2.06-.94-2.06-.94L8.5 2.5l-.94 2.06-2.06.94zm10 10l.94 2.06.94-2.06 2.06-.94-2.06-.94-.94-2.06-.94 2.06-2.06.94z\"/><path d=\"M17.41 7.96l-1.37-1.37c-.4-.4-.92-.59-1.43-.59-.52 0-1.04.2-1.43.59L10.3 9.45l-7.72 7.72c-.78.78-.78 2.05 0 2.83L4 21.41c.39.39.9.59 1.41.59.51 0 1.02-.2 1.41-.59l7.78-7.78 2.81-2.81c.8-.78.8-2.07 0-2.86zM5.41 20L4 18.59l7.72-7.72 1.47 1.35L5.41 20z\"/>\n",
              "  </svg>\n",
              "      </button>\n",
              "      \n",
              "  <style>\n",
              "    .colab-df-container {\n",
              "      display:flex;\n",
              "      flex-wrap:wrap;\n",
              "      gap: 12px;\n",
              "    }\n",
              "\n",
              "    .colab-df-convert {\n",
              "      background-color: #E8F0FE;\n",
              "      border: none;\n",
              "      border-radius: 50%;\n",
              "      cursor: pointer;\n",
              "      display: none;\n",
              "      fill: #1967D2;\n",
              "      height: 32px;\n",
              "      padding: 0 0 0 0;\n",
              "      width: 32px;\n",
              "    }\n",
              "\n",
              "    .colab-df-convert:hover {\n",
              "      background-color: #E2EBFA;\n",
              "      box-shadow: 0px 1px 2px rgba(60, 64, 67, 0.3), 0px 1px 3px 1px rgba(60, 64, 67, 0.15);\n",
              "      fill: #174EA6;\n",
              "    }\n",
              "\n",
              "    [theme=dark] .colab-df-convert {\n",
              "      background-color: #3B4455;\n",
              "      fill: #D2E3FC;\n",
              "    }\n",
              "\n",
              "    [theme=dark] .colab-df-convert:hover {\n",
              "      background-color: #434B5C;\n",
              "      box-shadow: 0px 1px 3px 1px rgba(0, 0, 0, 0.15);\n",
              "      filter: drop-shadow(0px 1px 2px rgba(0, 0, 0, 0.3));\n",
              "      fill: #FFFFFF;\n",
              "    }\n",
              "  </style>\n",
              "\n",
              "      <script>\n",
              "        const buttonEl =\n",
              "          document.querySelector('#df-37cabeb3-ed13-4d2e-908c-e89024abde8d button.colab-df-convert');\n",
              "        buttonEl.style.display =\n",
              "          google.colab.kernel.accessAllowed ? 'block' : 'none';\n",
              "\n",
              "        async function convertToInteractive(key) {\n",
              "          const element = document.querySelector('#df-37cabeb3-ed13-4d2e-908c-e89024abde8d');\n",
              "          const dataTable =\n",
              "            await google.colab.kernel.invokeFunction('convertToInteractive',\n",
              "                                                     [key], {});\n",
              "          if (!dataTable) return;\n",
              "\n",
              "          const docLinkHtml = 'Like what you see? Visit the ' +\n",
              "            '<a target=\"_blank\" href=https://colab.research.google.com/notebooks/data_table.ipynb>data table notebook</a>'\n",
              "            + ' to learn more about interactive tables.';\n",
              "          element.innerHTML = '';\n",
              "          dataTable['output_type'] = 'display_data';\n",
              "          await google.colab.output.renderOutput(dataTable, element);\n",
              "          const docLink = document.createElement('div');\n",
              "          docLink.innerHTML = docLinkHtml;\n",
              "          element.appendChild(docLink);\n",
              "        }\n",
              "      </script>\n",
              "    </div>\n",
              "  </div>\n",
              "  "
            ]
          },
          "metadata": {},
          "execution_count": 3
        }
      ]
    },
    {
      "cell_type": "code",
      "source": [
        "train.shape"
      ],
      "metadata": {
        "colab": {
          "base_uri": "https://localhost:8080/"
        },
        "id": "QTzHDJiYilSR",
        "outputId": "e537cf8a-188e-40f9-b4f9-8faede56ccc7"
      },
      "execution_count": 4,
      "outputs": [
        {
          "output_type": "execute_result",
          "data": {
            "text/plain": [
              "(23970, 13)"
            ]
          },
          "metadata": {},
          "execution_count": 4
        }
      ]
    },
    {
      "cell_type": "code",
      "source": [
        "train.describe()"
      ],
      "metadata": {
        "colab": {
          "base_uri": "https://localhost:8080/",
          "height": 364
        },
        "id": "PsClVW8XjHJp",
        "outputId": "1cab76e9-9c01-4dd3-f088-f7a9dd60c911"
      },
      "execution_count": 5,
      "outputs": [
        {
          "output_type": "execute_result",
          "data": {
            "text/plain": [
              "               Tier          FICO          Term         Amount  Previous_Rate  \\\n",
              "count  23970.000000  23970.000000  23970.000000   23970.000000   23970.000000   \n",
              "mean       1.917772    727.125282     56.842053   26036.637091       1.756863   \n",
              "std        1.047117     44.811054     11.224998   11205.186313       3.485156   \n",
              "min        1.000000    601.000000     36.000000    4526.620000       0.000000   \n",
              "25%        1.000000    692.000000     48.000000   17814.250000       0.000000   \n",
              "50%        2.000000    726.000000     60.000000   25000.000000       0.000000   \n",
              "75%        3.000000    763.000000     60.000000   33000.000000       0.000000   \n",
              "max        4.000000    852.000000     72.000000  100000.000000      23.000000   \n",
              "\n",
              "       Competition_rate          Rate    Cost_Funds   Partner Bin  \\\n",
              "count      23970.000000  23970.000000  23970.000000  23970.000000   \n",
              "mean           4.807391      5.619706      1.329026      2.032457   \n",
              "std            0.589866      1.545711      0.279312      0.909267   \n",
              "min            2.990000      2.450000      1.020000      1.000000   \n",
              "25%            4.390000      4.490000      1.110000      1.000000   \n",
              "50%            4.790000      5.090000      1.246300      2.000000   \n",
              "75%            5.190000      6.390000      1.418800      3.000000   \n",
              "max            6.450000     11.550000      2.127000      3.000000   \n",
              "\n",
              "         Car_Type_N    Car_Type_R    Car_Type_U        Accept  \n",
              "count  23970.000000  23970.000000  23970.000000  23969.000000  \n",
              "mean       0.572966      0.229871      0.197163      0.222412  \n",
              "std        0.494658      0.420758      0.397865      0.415875  \n",
              "min        0.000000      0.000000      0.000000      0.000000  \n",
              "25%        0.000000      0.000000      0.000000      0.000000  \n",
              "50%        1.000000      0.000000      0.000000      0.000000  \n",
              "75%        1.000000      0.000000      0.000000      0.000000  \n",
              "max        1.000000      1.000000      1.000000      1.000000  "
            ],
            "text/html": [
              "\n",
              "  <div id=\"df-3396c679-247a-4a45-af59-9a5f32b71fcb\">\n",
              "    <div class=\"colab-df-container\">\n",
              "      <div>\n",
              "<style scoped>\n",
              "    .dataframe tbody tr th:only-of-type {\n",
              "        vertical-align: middle;\n",
              "    }\n",
              "\n",
              "    .dataframe tbody tr th {\n",
              "        vertical-align: top;\n",
              "    }\n",
              "\n",
              "    .dataframe thead th {\n",
              "        text-align: right;\n",
              "    }\n",
              "</style>\n",
              "<table border=\"1\" class=\"dataframe\">\n",
              "  <thead>\n",
              "    <tr style=\"text-align: right;\">\n",
              "      <th></th>\n",
              "      <th>Tier</th>\n",
              "      <th>FICO</th>\n",
              "      <th>Term</th>\n",
              "      <th>Amount</th>\n",
              "      <th>Previous_Rate</th>\n",
              "      <th>Competition_rate</th>\n",
              "      <th>Rate</th>\n",
              "      <th>Cost_Funds</th>\n",
              "      <th>Partner Bin</th>\n",
              "      <th>Car_Type_N</th>\n",
              "      <th>Car_Type_R</th>\n",
              "      <th>Car_Type_U</th>\n",
              "      <th>Accept</th>\n",
              "    </tr>\n",
              "  </thead>\n",
              "  <tbody>\n",
              "    <tr>\n",
              "      <th>count</th>\n",
              "      <td>23970.000000</td>\n",
              "      <td>23970.000000</td>\n",
              "      <td>23970.000000</td>\n",
              "      <td>23970.000000</td>\n",
              "      <td>23970.000000</td>\n",
              "      <td>23970.000000</td>\n",
              "      <td>23970.000000</td>\n",
              "      <td>23970.000000</td>\n",
              "      <td>23970.000000</td>\n",
              "      <td>23970.000000</td>\n",
              "      <td>23970.000000</td>\n",
              "      <td>23970.000000</td>\n",
              "      <td>23969.000000</td>\n",
              "    </tr>\n",
              "    <tr>\n",
              "      <th>mean</th>\n",
              "      <td>1.917772</td>\n",
              "      <td>727.125282</td>\n",
              "      <td>56.842053</td>\n",
              "      <td>26036.637091</td>\n",
              "      <td>1.756863</td>\n",
              "      <td>4.807391</td>\n",
              "      <td>5.619706</td>\n",
              "      <td>1.329026</td>\n",
              "      <td>2.032457</td>\n",
              "      <td>0.572966</td>\n",
              "      <td>0.229871</td>\n",
              "      <td>0.197163</td>\n",
              "      <td>0.222412</td>\n",
              "    </tr>\n",
              "    <tr>\n",
              "      <th>std</th>\n",
              "      <td>1.047117</td>\n",
              "      <td>44.811054</td>\n",
              "      <td>11.224998</td>\n",
              "      <td>11205.186313</td>\n",
              "      <td>3.485156</td>\n",
              "      <td>0.589866</td>\n",
              "      <td>1.545711</td>\n",
              "      <td>0.279312</td>\n",
              "      <td>0.909267</td>\n",
              "      <td>0.494658</td>\n",
              "      <td>0.420758</td>\n",
              "      <td>0.397865</td>\n",
              "      <td>0.415875</td>\n",
              "    </tr>\n",
              "    <tr>\n",
              "      <th>min</th>\n",
              "      <td>1.000000</td>\n",
              "      <td>601.000000</td>\n",
              "      <td>36.000000</td>\n",
              "      <td>4526.620000</td>\n",
              "      <td>0.000000</td>\n",
              "      <td>2.990000</td>\n",
              "      <td>2.450000</td>\n",
              "      <td>1.020000</td>\n",
              "      <td>1.000000</td>\n",
              "      <td>0.000000</td>\n",
              "      <td>0.000000</td>\n",
              "      <td>0.000000</td>\n",
              "      <td>0.000000</td>\n",
              "    </tr>\n",
              "    <tr>\n",
              "      <th>25%</th>\n",
              "      <td>1.000000</td>\n",
              "      <td>692.000000</td>\n",
              "      <td>48.000000</td>\n",
              "      <td>17814.250000</td>\n",
              "      <td>0.000000</td>\n",
              "      <td>4.390000</td>\n",
              "      <td>4.490000</td>\n",
              "      <td>1.110000</td>\n",
              "      <td>1.000000</td>\n",
              "      <td>0.000000</td>\n",
              "      <td>0.000000</td>\n",
              "      <td>0.000000</td>\n",
              "      <td>0.000000</td>\n",
              "    </tr>\n",
              "    <tr>\n",
              "      <th>50%</th>\n",
              "      <td>2.000000</td>\n",
              "      <td>726.000000</td>\n",
              "      <td>60.000000</td>\n",
              "      <td>25000.000000</td>\n",
              "      <td>0.000000</td>\n",
              "      <td>4.790000</td>\n",
              "      <td>5.090000</td>\n",
              "      <td>1.246300</td>\n",
              "      <td>2.000000</td>\n",
              "      <td>1.000000</td>\n",
              "      <td>0.000000</td>\n",
              "      <td>0.000000</td>\n",
              "      <td>0.000000</td>\n",
              "    </tr>\n",
              "    <tr>\n",
              "      <th>75%</th>\n",
              "      <td>3.000000</td>\n",
              "      <td>763.000000</td>\n",
              "      <td>60.000000</td>\n",
              "      <td>33000.000000</td>\n",
              "      <td>0.000000</td>\n",
              "      <td>5.190000</td>\n",
              "      <td>6.390000</td>\n",
              "      <td>1.418800</td>\n",
              "      <td>3.000000</td>\n",
              "      <td>1.000000</td>\n",
              "      <td>0.000000</td>\n",
              "      <td>0.000000</td>\n",
              "      <td>0.000000</td>\n",
              "    </tr>\n",
              "    <tr>\n",
              "      <th>max</th>\n",
              "      <td>4.000000</td>\n",
              "      <td>852.000000</td>\n",
              "      <td>72.000000</td>\n",
              "      <td>100000.000000</td>\n",
              "      <td>23.000000</td>\n",
              "      <td>6.450000</td>\n",
              "      <td>11.550000</td>\n",
              "      <td>2.127000</td>\n",
              "      <td>3.000000</td>\n",
              "      <td>1.000000</td>\n",
              "      <td>1.000000</td>\n",
              "      <td>1.000000</td>\n",
              "      <td>1.000000</td>\n",
              "    </tr>\n",
              "  </tbody>\n",
              "</table>\n",
              "</div>\n",
              "      <button class=\"colab-df-convert\" onclick=\"convertToInteractive('df-3396c679-247a-4a45-af59-9a5f32b71fcb')\"\n",
              "              title=\"Convert this dataframe to an interactive table.\"\n",
              "              style=\"display:none;\">\n",
              "        \n",
              "  <svg xmlns=\"http://www.w3.org/2000/svg\" height=\"24px\"viewBox=\"0 0 24 24\"\n",
              "       width=\"24px\">\n",
              "    <path d=\"M0 0h24v24H0V0z\" fill=\"none\"/>\n",
              "    <path d=\"M18.56 5.44l.94 2.06.94-2.06 2.06-.94-2.06-.94-.94-2.06-.94 2.06-2.06.94zm-11 1L8.5 8.5l.94-2.06 2.06-.94-2.06-.94L8.5 2.5l-.94 2.06-2.06.94zm10 10l.94 2.06.94-2.06 2.06-.94-2.06-.94-.94-2.06-.94 2.06-2.06.94z\"/><path d=\"M17.41 7.96l-1.37-1.37c-.4-.4-.92-.59-1.43-.59-.52 0-1.04.2-1.43.59L10.3 9.45l-7.72 7.72c-.78.78-.78 2.05 0 2.83L4 21.41c.39.39.9.59 1.41.59.51 0 1.02-.2 1.41-.59l7.78-7.78 2.81-2.81c.8-.78.8-2.07 0-2.86zM5.41 20L4 18.59l7.72-7.72 1.47 1.35L5.41 20z\"/>\n",
              "  </svg>\n",
              "      </button>\n",
              "      \n",
              "  <style>\n",
              "    .colab-df-container {\n",
              "      display:flex;\n",
              "      flex-wrap:wrap;\n",
              "      gap: 12px;\n",
              "    }\n",
              "\n",
              "    .colab-df-convert {\n",
              "      background-color: #E8F0FE;\n",
              "      border: none;\n",
              "      border-radius: 50%;\n",
              "      cursor: pointer;\n",
              "      display: none;\n",
              "      fill: #1967D2;\n",
              "      height: 32px;\n",
              "      padding: 0 0 0 0;\n",
              "      width: 32px;\n",
              "    }\n",
              "\n",
              "    .colab-df-convert:hover {\n",
              "      background-color: #E2EBFA;\n",
              "      box-shadow: 0px 1px 2px rgba(60, 64, 67, 0.3), 0px 1px 3px 1px rgba(60, 64, 67, 0.15);\n",
              "      fill: #174EA6;\n",
              "    }\n",
              "\n",
              "    [theme=dark] .colab-df-convert {\n",
              "      background-color: #3B4455;\n",
              "      fill: #D2E3FC;\n",
              "    }\n",
              "\n",
              "    [theme=dark] .colab-df-convert:hover {\n",
              "      background-color: #434B5C;\n",
              "      box-shadow: 0px 1px 3px 1px rgba(0, 0, 0, 0.15);\n",
              "      filter: drop-shadow(0px 1px 2px rgba(0, 0, 0, 0.3));\n",
              "      fill: #FFFFFF;\n",
              "    }\n",
              "  </style>\n",
              "\n",
              "      <script>\n",
              "        const buttonEl =\n",
              "          document.querySelector('#df-3396c679-247a-4a45-af59-9a5f32b71fcb button.colab-df-convert');\n",
              "        buttonEl.style.display =\n",
              "          google.colab.kernel.accessAllowed ? 'block' : 'none';\n",
              "\n",
              "        async function convertToInteractive(key) {\n",
              "          const element = document.querySelector('#df-3396c679-247a-4a45-af59-9a5f32b71fcb');\n",
              "          const dataTable =\n",
              "            await google.colab.kernel.invokeFunction('convertToInteractive',\n",
              "                                                     [key], {});\n",
              "          if (!dataTable) return;\n",
              "\n",
              "          const docLinkHtml = 'Like what you see? Visit the ' +\n",
              "            '<a target=\"_blank\" href=https://colab.research.google.com/notebooks/data_table.ipynb>data table notebook</a>'\n",
              "            + ' to learn more about interactive tables.';\n",
              "          element.innerHTML = '';\n",
              "          dataTable['output_type'] = 'display_data';\n",
              "          await google.colab.output.renderOutput(dataTable, element);\n",
              "          const docLink = document.createElement('div');\n",
              "          docLink.innerHTML = docLinkHtml;\n",
              "          element.appendChild(docLink);\n",
              "        }\n",
              "      </script>\n",
              "    </div>\n",
              "  </div>\n",
              "  "
            ]
          },
          "metadata": {},
          "execution_count": 5
        }
      ]
    },
    {
      "cell_type": "code",
      "source": [
        "train['Accept'].value_counts(normalize=True)"
      ],
      "metadata": {
        "colab": {
          "base_uri": "https://localhost:8080/"
        },
        "id": "-uXzYhzAjM7Q",
        "outputId": "ab3984b1-a115-49fe-eb80-1f6cdb460c2a"
      },
      "execution_count": 6,
      "outputs": [
        {
          "output_type": "execute_result",
          "data": {
            "text/plain": [
              "0.0    0.777588\n",
              "1.0    0.222412\n",
              "Name: Accept, dtype: float64"
            ]
          },
          "metadata": {},
          "execution_count": 6
        }
      ]
    },
    {
      "cell_type": "code",
      "source": [
        "train.columns"
      ],
      "metadata": {
        "colab": {
          "base_uri": "https://localhost:8080/"
        },
        "id": "MjS2hTlxkSfm",
        "outputId": "8e043699-6ff4-4ffb-f432-e5b88c7cfc0e"
      },
      "execution_count": 7,
      "outputs": [
        {
          "output_type": "execute_result",
          "data": {
            "text/plain": [
              "Index(['Tier', 'FICO', 'Term', 'Amount', 'Previous_Rate', 'Competition_rate',\n",
              "       'Rate', 'Cost_Funds', 'Partner Bin', 'Car_Type_N', 'Car_Type_R',\n",
              "       'Car_Type_U', 'Accept'],\n",
              "      dtype='object')"
            ]
          },
          "metadata": {},
          "execution_count": 7
        }
      ]
    },
    {
      "cell_type": "code",
      "source": [
        "features = ['Tier', 'FICO', 'Term', 'Amount', 'Previous_Rate', 'Competition_rate',\n",
        "       'Rate', 'Cost_Funds', 'Partner Bin', 'Car_Type_N', 'Car_Type_R',\n",
        "       'Car_Type_U']\n",
        "       \n",
        "target = ['Accept']"
      ],
      "metadata": {
        "id": "BVblTmFxksvq"
      },
      "execution_count": 8,
      "outputs": []
    },
    {
      "cell_type": "code",
      "source": [
        "X_train = train[features]\n",
        "y_train = train[target]"
      ],
      "metadata": {
        "id": "LBGp_8ftk5WO"
      },
      "execution_count": 9,
      "outputs": []
    },
    {
      "cell_type": "code",
      "source": [
        "X_test = test[features]\n",
        "y_test = test[target]"
      ],
      "metadata": {
        "id": "l5X8CTwFlGCX"
      },
      "execution_count": 10,
      "outputs": []
    },
    {
      "cell_type": "code",
      "source": [
        "len(train.columns)"
      ],
      "metadata": {
        "colab": {
          "base_uri": "https://localhost:8080/"
        },
        "id": "p_EhIKUjlaz2",
        "outputId": "8f9292c8-71c1-4386-a79f-ff188132d084"
      },
      "execution_count": 11,
      "outputs": [
        {
          "output_type": "execute_result",
          "data": {
            "text/plain": [
              "13"
            ]
          },
          "metadata": {},
          "execution_count": 11
        }
      ]
    },
    {
      "cell_type": "code",
      "source": [
        "from sklearn.linear_model import LogisticRegression\n",
        "logreg = LogisticRegression()"
      ],
      "metadata": {
        "id": "ggQeeJ5wlqRA"
      },
      "execution_count": 12,
      "outputs": []
    },
    {
      "cell_type": "code",
      "source": [
        "#logreg.fit(X_train,y_train)\n",
        "y_train = y_train.fillna(0)"
      ],
      "metadata": {
        "id": "lACZ463zrFpF"
      },
      "execution_count": 13,
      "outputs": []
    },
    {
      "cell_type": "code",
      "source": [
        "logreg.fit(X_train,y_train)"
      ],
      "metadata": {
        "colab": {
          "base_uri": "https://localhost:8080/"
        },
        "id": "99yv32WGt6bD",
        "outputId": "72ab44e6-b41d-4014-d749-8bd049b1dc1e"
      },
      "execution_count": 14,
      "outputs": [
        {
          "output_type": "stream",
          "name": "stderr",
          "text": [
            "/usr/local/lib/python3.7/dist-packages/sklearn/utils/validation.py:993: DataConversionWarning: A column-vector y was passed when a 1d array was expected. Please change the shape of y to (n_samples, ), for example using ravel().\n",
            "  y = column_or_1d(y, warn=True)\n",
            "/usr/local/lib/python3.7/dist-packages/sklearn/linear_model/_logistic.py:818: ConvergenceWarning: lbfgs failed to converge (status=1):\n",
            "STOP: TOTAL NO. of ITERATIONS REACHED LIMIT.\n",
            "\n",
            "Increase the number of iterations (max_iter) or scale the data as shown in:\n",
            "    https://scikit-learn.org/stable/modules/preprocessing.html\n",
            "Please also refer to the documentation for alternative solver options:\n",
            "    https://scikit-learn.org/stable/modules/linear_model.html#logistic-regression\n",
            "  extra_warning_msg=_LOGISTIC_SOLVER_CONVERGENCE_MSG,\n"
          ]
        },
        {
          "output_type": "execute_result",
          "data": {
            "text/plain": [
              "LogisticRegression()"
            ]
          },
          "metadata": {},
          "execution_count": 14
        }
      ]
    },
    {
      "cell_type": "code",
      "source": [
        "logreg.coef_"
      ],
      "metadata": {
        "colab": {
          "base_uri": "https://localhost:8080/"
        },
        "id": "ZrNYCaSMt_hx",
        "outputId": "e6062732-1fec-4799-a4fb-462689870496"
      },
      "execution_count": 15,
      "outputs": [
        {
          "output_type": "execute_result",
          "data": {
            "text/plain": [
              "array([[-2.25879717e-01, -1.01052086e-03,  6.13804732e-02,\n",
              "        -9.91610091e-05,  1.36776983e-01,  2.59689105e-01,\n",
              "        -3.75552284e-01,  1.35950589e-02, -3.88751295e-01,\n",
              "        -6.75643667e-01, -8.00938110e-02,  7.54795869e-01]])"
            ]
          },
          "metadata": {},
          "execution_count": 15
        }
      ]
    },
    {
      "cell_type": "code",
      "source": [
        "fico = logreg.coef_[0][1]\n",
        "#print(fico)\n",
        "o = np.exp(fico)\n",
        "print(o)"
      ],
      "metadata": {
        "colab": {
          "base_uri": "https://localhost:8080/"
        },
        "id": "gDHTqtTpubHx",
        "outputId": "659378dc-3d94-41eb-eb55-c6b668d3627a"
      },
      "execution_count": 16,
      "outputs": [
        {
          "output_type": "stream",
          "name": "stdout",
          "text": [
            "0.998989989541625\n"
          ]
        }
      ]
    },
    {
      "cell_type": "code",
      "source": [
        "y_pred = logreg.predict(X_test)"
      ],
      "metadata": {
        "id": "WGPT0jsuvoNC"
      },
      "execution_count": 17,
      "outputs": []
    },
    {
      "cell_type": "code",
      "source": [
        "from sklearn.metrics import confusion_matrix\n",
        "confusion_matrix(y_test, y_pred)"
      ],
      "metadata": {
        "colab": {
          "base_uri": "https://localhost:8080/"
        },
        "id": "zhqPrcnRvwEU",
        "outputId": "fd0c1bcc-ce08-402a-c9dc-be915c294f6d"
      },
      "execution_count": 18,
      "outputs": [
        {
          "output_type": "execute_result",
          "data": {
            "text/plain": [
              "array([[18093,  1371],\n",
              "       [ 3394,  2142]])"
            ]
          },
          "metadata": {},
          "execution_count": 18
        }
      ]
    },
    {
      "cell_type": "code",
      "source": [
        "Accuracy = (18093+2142)/(18093+1371+3394+2142)\n",
        "Accuracy"
      ],
      "metadata": {
        "colab": {
          "base_uri": "https://localhost:8080/"
        },
        "id": "dUzhZ3bdwq9i",
        "outputId": "96e9a251-5ee6-47c3-df5a-e587025f93fc"
      },
      "execution_count": 19,
      "outputs": [
        {
          "output_type": "execute_result",
          "data": {
            "text/plain": [
              "0.8094"
            ]
          },
          "metadata": {},
          "execution_count": 19
        }
      ]
    },
    {
      "cell_type": "code",
      "source": [
        "#precision for those who will not take the loan\n",
        "precision = 18093/(18093+3394)\n",
        "precision"
      ],
      "metadata": {
        "colab": {
          "base_uri": "https://localhost:8080/"
        },
        "id": "0CMW5GVvxSUq",
        "outputId": "e9c550ad-496b-4980-8d49-0ae4c342e354"
      },
      "execution_count": 20,
      "outputs": [
        {
          "output_type": "execute_result",
          "data": {
            "text/plain": [
              "0.8420440266207474"
            ]
          },
          "metadata": {},
          "execution_count": 20
        }
      ]
    },
    {
      "cell_type": "code",
      "source": [
        "recall = 2142/(2142+1371)\n",
        "recall"
      ],
      "metadata": {
        "colab": {
          "base_uri": "https://localhost:8080/"
        },
        "id": "fNKccpkAxj4r",
        "outputId": "5db9aa3d-f409-47d8-cb13-eef0cf92f264"
      },
      "execution_count": 21,
      "outputs": [
        {
          "output_type": "execute_result",
          "data": {
            "text/plain": [
              "0.609735269000854"
            ]
          },
          "metadata": {},
          "execution_count": 21
        }
      ]
    },
    {
      "cell_type": "code",
      "source": [
        "#precision for those who will take the loan\n",
        "prec = 2142/(2142+1371)\n",
        "prec"
      ],
      "metadata": {
        "colab": {
          "base_uri": "https://localhost:8080/"
        },
        "id": "197NzmbByiPy",
        "outputId": "9011229a-8635-4da5-8891-ca8a6f1d692e"
      },
      "execution_count": 22,
      "outputs": [
        {
          "output_type": "execute_result",
          "data": {
            "text/plain": [
              "0.609735269000854"
            ]
          },
          "metadata": {},
          "execution_count": 22
        }
      ]
    },
    {
      "cell_type": "code",
      "source": [
        "rec = 2142/(2142+3394)\n",
        "rec"
      ],
      "metadata": {
        "colab": {
          "base_uri": "https://localhost:8080/"
        },
        "id": "40loAfGOzB8f",
        "outputId": "77550854-3f31-4795-9d4e-56cba46fe3e9"
      },
      "execution_count": 23,
      "outputs": [
        {
          "output_type": "execute_result",
          "data": {
            "text/plain": [
              "0.38692196531791906"
            ]
          },
          "metadata": {},
          "execution_count": 23
        }
      ]
    },
    {
      "cell_type": "code",
      "source": [
        "from sklearn.metrics import accuracy_score\n",
        "from sklearn.metrics import precision_score\n",
        "from sklearn.metrics import recall_score"
      ],
      "metadata": {
        "id": "cvmlg9ey0QTq"
      },
      "execution_count": 24,
      "outputs": []
    },
    {
      "cell_type": "code",
      "source": [
        "a1 = accuracy_score(y_test, y_pred)\n",
        "a1"
      ],
      "metadata": {
        "colab": {
          "base_uri": "https://localhost:8080/"
        },
        "id": "oRxnAlnM0ggQ",
        "outputId": "fb72b597-84df-45cf-deb4-68e57fb12962"
      },
      "execution_count": 25,
      "outputs": [
        {
          "output_type": "execute_result",
          "data": {
            "text/plain": [
              "0.8094"
            ]
          },
          "metadata": {},
          "execution_count": 25
        }
      ]
    },
    {
      "cell_type": "code",
      "source": [
        "p1 = precision_score(y_test, y_pred, pos_label=1)\n",
        "p1"
      ],
      "metadata": {
        "colab": {
          "base_uri": "https://localhost:8080/"
        },
        "id": "Hh4YKk3X0zzs",
        "outputId": "c5c3fa8b-6809-43a5-9dca-eba8911afd94"
      },
      "execution_count": 26,
      "outputs": [
        {
          "output_type": "execute_result",
          "data": {
            "text/plain": [
              "0.609735269000854"
            ]
          },
          "metadata": {},
          "execution_count": 26
        }
      ]
    },
    {
      "cell_type": "code",
      "source": [
        "r1 = recall_score(y_test, y_pred, pos_label=1)\n",
        "r1"
      ],
      "metadata": {
        "colab": {
          "base_uri": "https://localhost:8080/"
        },
        "id": "BuMpGvrU1YWF",
        "outputId": "8ddca8c4-df3a-440b-a8f9-f2f559359359"
      },
      "execution_count": 27,
      "outputs": [
        {
          "output_type": "execute_result",
          "data": {
            "text/plain": [
              "0.38692196531791906"
            ]
          },
          "metadata": {},
          "execution_count": 27
        }
      ]
    },
    {
      "cell_type": "code",
      "source": [
        "y_p = logreg.predict(X_train)"
      ],
      "metadata": {
        "id": "jVJNOOfz2fpx"
      },
      "execution_count": 28,
      "outputs": []
    },
    {
      "cell_type": "code",
      "source": [
        "a2 = accuracy_score(y_train, y_p)\n",
        "a2"
      ],
      "metadata": {
        "colab": {
          "base_uri": "https://localhost:8080/"
        },
        "id": "TxsXHZVb2mtc",
        "outputId": "4329990b-f713-4958-d431-b191ee9b14bd"
      },
      "execution_count": 29,
      "outputs": [
        {
          "output_type": "execute_result",
          "data": {
            "text/plain": [
              "0.8136420525657071"
            ]
          },
          "metadata": {},
          "execution_count": 29
        }
      ]
    },
    {
      "cell_type": "markdown",
      "source": [
        "## **NEXT QUESTION**"
      ],
      "metadata": {
        "id": "fiJ4uadZ3JAl"
      }
    },
    {
      "cell_type": "code",
      "source": [
        "y = np.array([0,0,0,0,0,1])\n",
        "y1 = np.array([0.122522,0.137083,0.208256,0.054945,0.116276,0.057915])\n",
        "y,y1"
      ],
      "metadata": {
        "colab": {
          "base_uri": "https://localhost:8080/"
        },
        "id": "P2P8boSV3OvF",
        "outputId": "380f693b-04b9-465a-f2ad-9b5949816aa9"
      },
      "execution_count": 30,
      "outputs": [
        {
          "output_type": "execute_result",
          "data": {
            "text/plain": [
              "(array([0, 0, 0, 0, 0, 1]),\n",
              " array([0.122522, 0.137083, 0.208256, 0.054945, 0.116276, 0.057915]))"
            ]
          },
          "metadata": {},
          "execution_count": 30
        }
      ]
    },
    {
      "cell_type": "code",
      "source": [
        "y1_mod = []\n",
        "for i in y1:\n",
        "  if i>=0.5:\n",
        "    y1_mod.append(1)\n",
        "  else:\n",
        "    y1_mod.append(0)\n",
        "y1_m = np.array(y1_mod)\n",
        "y1_m\n"
      ],
      "metadata": {
        "colab": {
          "base_uri": "https://localhost:8080/"
        },
        "id": "0ePrxxUQ34-w",
        "outputId": "23b5a5ea-dfbf-4ffc-f537-c83653f9ad97"
      },
      "execution_count": 31,
      "outputs": [
        {
          "output_type": "execute_result",
          "data": {
            "text/plain": [
              "array([0, 0, 0, 0, 0, 0])"
            ]
          },
          "metadata": {},
          "execution_count": 31
        }
      ]
    },
    {
      "cell_type": "code",
      "source": [
        "a3 = accuracy_score(y,y1_m)\n",
        "a3"
      ],
      "metadata": {
        "colab": {
          "base_uri": "https://localhost:8080/"
        },
        "id": "E2qKKwxf5Efs",
        "outputId": "78022b9f-f373-4937-c55a-f3c5a32f4d7a"
      },
      "execution_count": 32,
      "outputs": [
        {
          "output_type": "execute_result",
          "data": {
            "text/plain": [
              "0.8333333333333334"
            ]
          },
          "metadata": {},
          "execution_count": 32
        }
      ]
    },
    {
      "cell_type": "code",
      "source": [
        "r3 = recall_score(y,y1_m,pos_label=1)\n",
        "p3 = precision_score(y,y1_m,pos_label=1)\n",
        "r3,p3"
      ],
      "metadata": {
        "colab": {
          "base_uri": "https://localhost:8080/"
        },
        "id": "b3qKE4jd5XW2",
        "outputId": "6921c961-7fef-45b3-ea1a-dfbdfdbd4db6"
      },
      "execution_count": 33,
      "outputs": [
        {
          "output_type": "stream",
          "name": "stderr",
          "text": [
            "/usr/local/lib/python3.7/dist-packages/sklearn/metrics/_classification.py:1318: UndefinedMetricWarning: Precision is ill-defined and being set to 0.0 due to no predicted samples. Use `zero_division` parameter to control this behavior.\n",
            "  _warn_prf(average, modifier, msg_start, len(result))\n"
          ]
        },
        {
          "output_type": "execute_result",
          "data": {
            "text/plain": [
              "(0.0, 0.0)"
            ]
          },
          "metadata": {},
          "execution_count": 33
        }
      ]
    },
    {
      "cell_type": "code",
      "source": [
        "y2_mod = []\n",
        "for i in y1:\n",
        "  if i>=0.2:\n",
        "    y2_mod.append(1)\n",
        "  else:\n",
        "    y2_mod.append(0)\n",
        "y2_m = np.array(y2_mod)\n",
        "y2_m\n"
      ],
      "metadata": {
        "colab": {
          "base_uri": "https://localhost:8080/"
        },
        "id": "AcGtxmOK5yCB",
        "outputId": "23b2440a-ef87-4a7b-86cf-d4fc212ee3d9"
      },
      "execution_count": 34,
      "outputs": [
        {
          "output_type": "execute_result",
          "data": {
            "text/plain": [
              "array([0, 0, 1, 0, 0, 0])"
            ]
          },
          "metadata": {},
          "execution_count": 34
        }
      ]
    },
    {
      "cell_type": "code",
      "source": [
        "a4 = accuracy_score(y,y2_m)\n",
        "r4 = recall_score(y,y2_m,pos_label=1)\n",
        "p4 = precision_score(y,y2_m,pos_label=1)\n",
        "a4,r4,p4"
      ],
      "metadata": {
        "colab": {
          "base_uri": "https://localhost:8080/"
        },
        "id": "0a1uA2Ug54pA",
        "outputId": "b3fcdf4b-3175-477d-dde7-05cc466a1aad"
      },
      "execution_count": 35,
      "outputs": [
        {
          "output_type": "execute_result",
          "data": {
            "text/plain": [
              "(0.6666666666666666, 0.0, 0.0)"
            ]
          },
          "metadata": {},
          "execution_count": 35
        }
      ]
    }
  ]
}